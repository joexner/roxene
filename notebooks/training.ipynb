{
 "cells": [
  {
   "cell_type": "code",
   "execution_count": 1,
   "id": "18c4c367",
   "metadata": {},
   "outputs": [],
   "source": [
    "import sys\n",
    " \n",
    "sys.path.append('..')"
   ]
  },
  {
   "cell_type": "code",
   "execution_count": 2,
   "id": "77cda4e6",
   "metadata": {},
   "outputs": [],
   "source": [
    "import matplotlib.pyplot as plt\n",
    "import numpy as np"
   ]
  },
  {
   "cell_type": "code",
   "execution_count": 4,
   "id": "7bfe80d4",
   "metadata": {},
   "outputs": [],
   "source": [
    "from roxene.tic_tac_toe import Runner"
   ]
  },
  {
   "cell_type": "code",
   "execution_count": 12,
   "id": "2a891c5a",
   "metadata": {
    "scrolled": true
   },
   "outputs": [
    {
     "name": "stdout",
     "output_type": "stream",
     "text": [
      "Game finished with moves [('X', None, {<Outcome.TIMEOUT: 4>, <Outcome.LOSE: 2>})]\n",
      "Game finished with moves [('X', None, {<Outcome.TIMEOUT: 4>, <Outcome.LOSE: 2>})]\n",
      "Game finished with moves [('X', None, {<Outcome.TIMEOUT: 4>, <Outcome.LOSE: 2>})]\n",
      "Game finished with moves [('X', None, {<Outcome.TIMEOUT: 4>, <Outcome.LOSE: 2>})]\n",
      "Game finished with moves [('X', None, {<Outcome.TIMEOUT: 4>, <Outcome.LOSE: 2>})]\n",
      "Game finished with moves [('X', None, {<Outcome.TIMEOUT: 4>, <Outcome.LOSE: 2>})]\n",
      "Game finished with moves [('X', None, {<Outcome.TIMEOUT: 4>, <Outcome.LOSE: 2>})]\n",
      "Game finished with moves [('X', None, {<Outcome.TIMEOUT: 4>, <Outcome.LOSE: 2>})]\n",
      "Game finished with moves [('X', None, {<Outcome.TIMEOUT: 4>, <Outcome.LOSE: 2>})]\n",
      "Game finished with moves [('X', None, {<Outcome.TIMEOUT: 4>, <Outcome.LOSE: 2>})]\n",
      "Game finished with moves [('X', None, {<Outcome.TIMEOUT: 4>, <Outcome.LOSE: 2>})]\n",
      "Game finished with moves [('X', None, {<Outcome.TIMEOUT: 4>, <Outcome.LOSE: 2>})]\n",
      "Game finished with moves [('X', None, {<Outcome.TIMEOUT: 4>, <Outcome.LOSE: 2>})]\n",
      "Game finished with moves [('X', None, {<Outcome.TIMEOUT: 4>, <Outcome.LOSE: 2>})]\n",
      "Game finished with moves [('X', None, {<Outcome.TIMEOUT: 4>, <Outcome.LOSE: 2>})]\n",
      "Game finished with moves [('X', None, {<Outcome.TIMEOUT: 4>, <Outcome.LOSE: 2>})]\n",
      "Game finished with moves [('X', None, {<Outcome.TIMEOUT: 4>, <Outcome.LOSE: 2>})]\n",
      "Game finished with moves [('X', None, {<Outcome.TIMEOUT: 4>, <Outcome.LOSE: 2>})]\n",
      "Game finished with moves [('X', None, {<Outcome.TIMEOUT: 4>, <Outcome.LOSE: 2>})]\n",
      "Game finished with moves [('X', None, {<Outcome.TIMEOUT: 4>, <Outcome.LOSE: 2>})]\n",
      "Game finished with moves [('X', None, {<Outcome.TIMEOUT: 4>, <Outcome.LOSE: 2>})]\n",
      "Game finished with moves [('X', None, {<Outcome.TIMEOUT: 4>, <Outcome.LOSE: 2>})]\n",
      "Game finished with moves [('X', None, {<Outcome.TIMEOUT: 4>, <Outcome.LOSE: 2>})]\n",
      "Game finished with moves [('X', None, {<Outcome.TIMEOUT: 4>, <Outcome.LOSE: 2>})]\n",
      "Game finished with moves [('X', None, {<Outcome.TIMEOUT: 4>, <Outcome.LOSE: 2>})]\n",
      "Game finished with moves [('X', None, {<Outcome.TIMEOUT: 4>, <Outcome.LOSE: 2>})]\n",
      "Game finished with moves [('X', None, {<Outcome.TIMEOUT: 4>, <Outcome.LOSE: 2>})]\n",
      "Game finished with moves [('X', None, {<Outcome.TIMEOUT: 4>, <Outcome.LOSE: 2>})]\n",
      "Game finished with moves [('X', None, {<Outcome.TIMEOUT: 4>, <Outcome.LOSE: 2>})]\n",
      "Game finished with moves [('X', None, {<Outcome.TIMEOUT: 4>, <Outcome.LOSE: 2>})]\n",
      "Game finished with moves [('X', None, {<Outcome.TIMEOUT: 4>, <Outcome.LOSE: 2>})]\n",
      "Game finished with moves [('X', None, {<Outcome.TIMEOUT: 4>, <Outcome.LOSE: 2>})]\n",
      "Game finished with moves [('X', None, {<Outcome.TIMEOUT: 4>, <Outcome.LOSE: 2>})]\n",
      "Game finished with moves [('X', None, {<Outcome.TIMEOUT: 4>, <Outcome.LOSE: 2>})]\n",
      "Game finished with moves [('X', None, {<Outcome.TIMEOUT: 4>, <Outcome.LOSE: 2>})]\n",
      "Game finished with moves [('X', None, {<Outcome.TIMEOUT: 4>, <Outcome.LOSE: 2>})]\n",
      "Game finished with moves [('X', None, {<Outcome.TIMEOUT: 4>, <Outcome.LOSE: 2>})]\n",
      "Game finished with moves [('X', None, {<Outcome.TIMEOUT: 4>, <Outcome.LOSE: 2>})]\n",
      "Game finished with moves [('X', None, {<Outcome.TIMEOUT: 4>, <Outcome.LOSE: 2>})]\n",
      "Game finished with moves [('X', None, {<Outcome.TIMEOUT: 4>, <Outcome.LOSE: 2>})]\n",
      "Game finished with moves [('X', None, {<Outcome.TIMEOUT: 4>, <Outcome.LOSE: 2>})]\n",
      "Game finished with moves [('X', None, {<Outcome.TIMEOUT: 4>, <Outcome.LOSE: 2>})]\n",
      "Game finished with moves [('X', None, {<Outcome.TIMEOUT: 4>, <Outcome.LOSE: 2>})]\n",
      "Game finished with moves [('X', None, {<Outcome.TIMEOUT: 4>, <Outcome.LOSE: 2>})]\n",
      "Game finished with moves [('X', None, {<Outcome.TIMEOUT: 4>, <Outcome.LOSE: 2>})]\n",
      "Game finished with moves [('X', None, {<Outcome.TIMEOUT: 4>, <Outcome.LOSE: 2>})]\n",
      "Game finished with moves [('X', None, {<Outcome.TIMEOUT: 4>, <Outcome.LOSE: 2>})]\n",
      "Game finished with moves [('X', None, {<Outcome.TIMEOUT: 4>, <Outcome.LOSE: 2>})]\n",
      "Game finished with moves [('X', None, {<Outcome.TIMEOUT: 4>, <Outcome.LOSE: 2>})]\n",
      "Game finished with moves [('X', None, {<Outcome.TIMEOUT: 4>, <Outcome.LOSE: 2>})]\n",
      "Game finished with moves [('X', None, {<Outcome.TIMEOUT: 4>, <Outcome.LOSE: 2>})]\n",
      "Game finished with moves [('X', None, {<Outcome.TIMEOUT: 4>, <Outcome.LOSE: 2>})]\n",
      "Game finished with moves [('X', None, {<Outcome.TIMEOUT: 4>, <Outcome.LOSE: 2>})]\n",
      "Game finished with moves [('X', None, {<Outcome.TIMEOUT: 4>, <Outcome.LOSE: 2>})]\n",
      "Game finished with moves [('X', None, {<Outcome.TIMEOUT: 4>, <Outcome.LOSE: 2>})]\n",
      "Game finished with moves [('X', None, {<Outcome.TIMEOUT: 4>, <Outcome.LOSE: 2>})]\n",
      "Game finished with moves [('X', None, {<Outcome.TIMEOUT: 4>, <Outcome.LOSE: 2>})]\n",
      "Game finished with moves [('X', None, {<Outcome.TIMEOUT: 4>, <Outcome.LOSE: 2>})]\n",
      "Game finished with moves [('X', None, {<Outcome.TIMEOUT: 4>, <Outcome.LOSE: 2>})]\n",
      "Game finished with moves [('X', None, {<Outcome.TIMEOUT: 4>, <Outcome.LOSE: 2>})]\n",
      "Game finished with moves [('X', None, {<Outcome.TIMEOUT: 4>, <Outcome.LOSE: 2>})]\n",
      "Game finished with moves [('X', None, {<Outcome.TIMEOUT: 4>, <Outcome.LOSE: 2>})]\n",
      "Game finished with moves [('X', None, {<Outcome.TIMEOUT: 4>, <Outcome.LOSE: 2>})]\n",
      "Game finished with moves [('X', None, {<Outcome.TIMEOUT: 4>, <Outcome.LOSE: 2>})]\n",
      "Game finished with moves [('X', None, {<Outcome.TIMEOUT: 4>, <Outcome.LOSE: 2>})]\n",
      "Game finished with moves [('X', None, {<Outcome.TIMEOUT: 4>, <Outcome.LOSE: 2>})]\n",
      "Game finished with moves [('X', None, {<Outcome.TIMEOUT: 4>, <Outcome.LOSE: 2>})]\n",
      "Game finished with moves [('X', None, {<Outcome.TIMEOUT: 4>, <Outcome.LOSE: 2>})]\n",
      "Game finished with moves [('X', None, {<Outcome.TIMEOUT: 4>, <Outcome.LOSE: 2>})]\n",
      "Game finished with moves [('X', None, {<Outcome.TIMEOUT: 4>, <Outcome.LOSE: 2>})]\n",
      "Game finished with moves [('X', None, {<Outcome.TIMEOUT: 4>, <Outcome.LOSE: 2>})]\n"
     ]
    },
    {
     "ename": "KeyboardInterrupt",
     "evalue": "",
     "output_type": "error",
     "traceback": [
      "\u001b[0;31m---------------------------------------------------------------------------\u001b[0m",
      "\u001b[0;31mKeyboardInterrupt\u001b[0m                         Traceback (most recent call last)",
      "Cell \u001b[0;32mIn[12], line 10\u001b[0m\n\u001b[1;32m      6\u001b[0m runner \u001b[38;5;241m=\u001b[39m Runner(num_organisms, num_mutagens\u001b[38;5;241m=\u001b[39m\u001b[38;5;241m10\u001b[39m, seed\u001b[38;5;241m=\u001b[39m\u001b[38;5;241m42220\u001b[39m)\n\u001b[1;32m      9\u001b[0m \u001b[38;5;28;01mfor\u001b[39;00m iteration \u001b[38;5;129;01min\u001b[39;00m \u001b[38;5;28mrange\u001b[39m(num_trials):\n\u001b[0;32m---> 10\u001b[0m     trial \u001b[38;5;241m=\u001b[39m \u001b[43mrunner\u001b[49m\u001b[38;5;241;43m.\u001b[39;49m\u001b[43mrun_trial\u001b[49m\u001b[43m(\u001b[49m\u001b[43m)\u001b[49m\n\u001b[1;32m     11\u001b[0m     \u001b[38;5;28mprint\u001b[39m(\u001b[38;5;124mf\u001b[39m\u001b[38;5;124m\"\u001b[39m\u001b[38;5;124mGame finished with moves \u001b[39m\u001b[38;5;132;01m{\u001b[39;00m[(move\u001b[38;5;241m.\u001b[39mletter,\u001b[38;5;250m \u001b[39mmove\u001b[38;5;241m.\u001b[39mposition,\u001b[38;5;250m \u001b[39mmove\u001b[38;5;241m.\u001b[39moutcomes)\u001b[38;5;250m \u001b[39m\u001b[38;5;28;01mfor\u001b[39;00m\u001b[38;5;250m \u001b[39mmove\u001b[38;5;250m \u001b[39m\u001b[38;5;129;01min\u001b[39;00m\u001b[38;5;250m \u001b[39mtrial\u001b[38;5;241m.\u001b[39mmoves]\u001b[38;5;132;01m}\u001b[39;00m\u001b[38;5;124m\"\u001b[39m)\n\u001b[1;32m     12\u001b[0m     \u001b[38;5;28;01mif\u001b[39;00m ((iteration\u001b[38;5;241m+\u001b[39m\u001b[38;5;241m1\u001b[39m) \u001b[38;5;241m%\u001b[39m breed_and_cull_interval) \u001b[38;5;241m==\u001b[39m \u001b[38;5;241m0\u001b[39m:\n",
      "File \u001b[0;32m~/py/roxene/notebooks/../roxene/tic_tac_toe/runner.py:71\u001b[0m, in \u001b[0;36mRunner.run_trial\u001b[0;34m(self)\u001b[0m\n\u001b[1;32m     69\u001b[0m trial \u001b[38;5;241m=\u001b[39m Trial(OrganismPlayer(orgs[\u001b[38;5;241m0\u001b[39m], \u001b[38;5;124m'\u001b[39m\u001b[38;5;124mX\u001b[39m\u001b[38;5;124m'\u001b[39m), OrganismPlayer(orgs[\u001b[38;5;241m1\u001b[39m], \u001b[38;5;124m'\u001b[39m\u001b[38;5;124mO\u001b[39m\u001b[38;5;124m'\u001b[39m))\n\u001b[1;32m     70\u001b[0m \u001b[38;5;28mself\u001b[39m\u001b[38;5;241m.\u001b[39mlogger\u001b[38;5;241m.\u001b[39minfo(\u001b[38;5;124mf\u001b[39m\u001b[38;5;124m\"\u001b[39m\u001b[38;5;124mStarting trial \u001b[39m\u001b[38;5;132;01m{\u001b[39;00mtrial\u001b[38;5;241m.\u001b[39mid\u001b[38;5;132;01m}\u001b[39;00m\u001b[38;5;124m with players \u001b[39m\u001b[38;5;132;01m{\u001b[39;00m[\u001b[38;5;28mstr\u001b[39m(o\u001b[38;5;241m.\u001b[39mid)\u001b[38;5;250m \u001b[39m\u001b[38;5;28;01mfor\u001b[39;00m\u001b[38;5;250m \u001b[39mo\u001b[38;5;250m \u001b[39m\u001b[38;5;129;01min\u001b[39;00m\u001b[38;5;250m \u001b[39morgs]\u001b[38;5;132;01m}\u001b[39;00m\u001b[38;5;124m\"\u001b[39m)\n\u001b[0;32m---> 71\u001b[0m \u001b[43mtrial\u001b[49m\u001b[38;5;241;43m.\u001b[39;49m\u001b[43mrun\u001b[49m\u001b[43m(\u001b[49m\u001b[43m)\u001b[49m\n\u001b[1;32m     72\u001b[0m \u001b[38;5;28mself\u001b[39m\u001b[38;5;241m.\u001b[39mlogger\u001b[38;5;241m.\u001b[39minfo(\u001b[38;5;124mf\u001b[39m\u001b[38;5;124m\"\u001b[39m\u001b[38;5;124mFinished trial \u001b[39m\u001b[38;5;132;01m{\u001b[39;00mtrial\u001b[38;5;241m.\u001b[39mid\u001b[38;5;132;01m}\u001b[39;00m\u001b[38;5;124m\"\u001b[39m)\n\u001b[1;32m     73\u001b[0m \u001b[38;5;28mself\u001b[39m\u001b[38;5;241m.\u001b[39mbusy_organisms\u001b[38;5;241m.\u001b[39mdifference_update(orgs)\n",
      "File \u001b[0;32m~/py/roxene/notebooks/../roxene/tic_tac_toe/trial.py:50\u001b[0m, in \u001b[0;36mTrial.run\u001b[0;34m(self)\u001b[0m\n\u001b[1;32m     48\u001b[0m this_move \u001b[38;5;241m=\u001b[39m Move(letter\u001b[38;5;241m=\u001b[39mcurrent_player_letter, initial_board_state\u001b[38;5;241m=\u001b[39m\u001b[38;5;28mself\u001b[39m\u001b[38;5;241m.\u001b[39mboard)\n\u001b[1;32m     49\u001b[0m \u001b[38;5;28;01mtry\u001b[39;00m:\n\u001b[0;32m---> 50\u001b[0m     move_coords \u001b[38;5;241m=\u001b[39m \u001b[43mcurrent_player\u001b[49m\u001b[38;5;241;43m.\u001b[39;49m\u001b[43mget_move_coords\u001b[49m\u001b[43m(\u001b[49m\u001b[38;5;28;43mself\u001b[39;49m\u001b[38;5;241;43m.\u001b[39;49m\u001b[43mboard\u001b[49m\u001b[43m)\u001b[49m\n\u001b[1;32m     51\u001b[0m     this_move\u001b[38;5;241m.\u001b[39mposition \u001b[38;5;241m=\u001b[39m move_coords\n\u001b[1;32m     52\u001b[0m     existing_square_value \u001b[38;5;241m=\u001b[39m \u001b[38;5;28mself\u001b[39m\u001b[38;5;241m.\u001b[39mboard[move_coords[\u001b[38;5;241m0\u001b[39m]][move_coords[\u001b[38;5;241m1\u001b[39m]]\n",
      "File \u001b[0;32m~/py/roxene/notebooks/../roxene/tic_tac_toe/players.py:42\u001b[0m, in \u001b[0;36mOrganismPlayer.get_move_coords\u001b[0;34m(self, board)\u001b[0m\n\u001b[1;32m     40\u001b[0m             input_value \u001b[38;5;241m=\u001b[39m LOW_THRESHOLD\n\u001b[1;32m     41\u001b[0m         \u001b[38;5;28mself\u001b[39m\u001b[38;5;241m.\u001b[39morganism\u001b[38;5;241m.\u001b[39mset_input(input_label, input_value)\n\u001b[0;32m---> 42\u001b[0m \u001b[38;5;28;43mself\u001b[39;49m\u001b[38;5;241;43m.\u001b[39;49m\u001b[43msync\u001b[49m\u001b[43m(\u001b[49m\u001b[43mMAX_UPDATES\u001b[49m\u001b[43m)\u001b[49m\n\u001b[1;32m     43\u001b[0m max_output_value \u001b[38;5;241m=\u001b[39m \u001b[38;5;28;01mNone\u001b[39;00m\n\u001b[1;32m     44\u001b[0m \u001b[38;5;28;01mfor\u001b[39;00m x \u001b[38;5;129;01min\u001b[39;00m \u001b[38;5;28mrange\u001b[39m(\u001b[38;5;241m3\u001b[39m):\n",
      "File \u001b[0;32m~/py/roxene/notebooks/../roxene/tic_tac_toe/players.py:88\u001b[0m, in \u001b[0;36mOrganismPlayer.sync\u001b[0;34m(self, max_updates)\u001b[0m\n\u001b[1;32m     86\u001b[0m     next_log_at_update_number \u001b[38;5;241m*\u001b[39m\u001b[38;5;241m=\u001b[39m \u001b[38;5;241m2\u001b[39m\n\u001b[1;32m     87\u001b[0m     \u001b[38;5;28mself\u001b[39m\u001b[38;5;241m.\u001b[39mlogger\u001b[38;5;241m.\u001b[39mdebug(\u001b[38;5;124mf\u001b[39m\u001b[38;5;124m\"\u001b[39m\u001b[38;5;124mBeginning update \u001b[39m\u001b[38;5;132;01m{\u001b[39;00mnum_updates_used\u001b[38;5;132;01m}\u001b[39;00m\u001b[38;5;124m\"\u001b[39m)\n\u001b[0;32m---> 88\u001b[0m \u001b[38;5;28;43mself\u001b[39;49m\u001b[38;5;241;43m.\u001b[39;49m\u001b[43morganism\u001b[49m\u001b[38;5;241;43m.\u001b[39;49m\u001b[43mupdate\u001b[49m\u001b[43m(\u001b[49m\u001b[43m)\u001b[49m\n\u001b[1;32m     89\u001b[0m num_updates_used \u001b[38;5;241m+\u001b[39m\u001b[38;5;241m=\u001b[39m \u001b[38;5;241m1\u001b[39m\n\u001b[1;32m     90\u001b[0m output_value \u001b[38;5;241m=\u001b[39m \u001b[38;5;28mself\u001b[39m\u001b[38;5;241m.\u001b[39morganism\u001b[38;5;241m.\u001b[39mget_output(OUTPUT_READY)\n",
      "File \u001b[0;32m~/py/roxene/notebooks/../roxene/organism.py:29\u001b[0m, in \u001b[0;36mOrganism.update\u001b[0;34m(self)\u001b[0m\n\u001b[1;32m     27\u001b[0m \u001b[38;5;28;01mfor\u001b[39;00m cell \u001b[38;5;129;01min\u001b[39;00m \u001b[38;5;28mself\u001b[39m\u001b[38;5;241m.\u001b[39mcells:\n\u001b[1;32m     28\u001b[0m     \u001b[38;5;28;01mif\u001b[39;00m \u001b[38;5;28misinstance\u001b[39m(cell, Neuron):\n\u001b[0;32m---> 29\u001b[0m         \u001b[43mcell\u001b[49m\u001b[38;5;241;43m.\u001b[39;49m\u001b[43mupdate\u001b[49m\u001b[43m(\u001b[49m\u001b[43m)\u001b[49m\n",
      "File \u001b[0;32m~/py/roxene/notebooks/../roxene/cells.py:59\u001b[0m, in \u001b[0;36mNeuron.update\u001b[0;34m(self)\u001b[0m\n\u001b[1;32m     57\u001b[0m hidden \u001b[38;5;241m=\u001b[39m \u001b[38;5;28mself\u001b[39m\u001b[38;5;241m.\u001b[39mactivation(tf\u001b[38;5;241m.\u001b[39mmatmul(hidden_in, hidden_wts))\n\u001b[1;32m     58\u001b[0m \u001b[38;5;28mself\u001b[39m\u001b[38;5;241m.\u001b[39mfeedback\u001b[38;5;241m.\u001b[39massign(tf\u001b[38;5;241m.\u001b[39msqueeze(\u001b[38;5;28mself\u001b[39m\u001b[38;5;241m.\u001b[39mactivation(tf\u001b[38;5;241m.\u001b[39mmatmul(hidden, \u001b[38;5;28mself\u001b[39m\u001b[38;5;241m.\u001b[39mhidden_feedback)), \u001b[38;5;241m0\u001b[39m))\n\u001b[0;32m---> 59\u001b[0m \u001b[38;5;28;43mself\u001b[39;49m\u001b[38;5;241;43m.\u001b[39;49m\u001b[43moutput\u001b[49m\u001b[38;5;241;43m.\u001b[39;49m\u001b[43massign\u001b[49m\u001b[43m(\u001b[49m\u001b[43mtf\u001b[49m\u001b[38;5;241;43m.\u001b[39;49m\u001b[43msqueeze\u001b[49m\u001b[43m(\u001b[49m\u001b[38;5;28;43mself\u001b[39;49m\u001b[38;5;241;43m.\u001b[39;49m\u001b[43mactivation\u001b[49m\u001b[43m(\u001b[49m\u001b[43mtf\u001b[49m\u001b[38;5;241;43m.\u001b[39;49m\u001b[43mmatmul\u001b[49m\u001b[43m(\u001b[49m\u001b[43mhidden\u001b[49m\u001b[43m,\u001b[49m\u001b[43m \u001b[49m\u001b[38;5;28;43mself\u001b[39;49m\u001b[38;5;241;43m.\u001b[39;49m\u001b[43mhidden_output\u001b[49m\u001b[43m)\u001b[49m\u001b[43m)\u001b[49m\u001b[43m,\u001b[49m\u001b[43m \u001b[49m\u001b[43m[\u001b[49m\u001b[38;5;241;43m0\u001b[39;49m\u001b[43m]\u001b[49m\u001b[43m)\u001b[49m\u001b[43m)\u001b[49m\n",
      "File \u001b[0;32m~/.local/share/virtualenvs/roxene-KZO7fL-2/lib64/python3.10/site-packages/tensorflow/python/ops/resource_variable_ops.py:928\u001b[0m, in \u001b[0;36mBaseResourceVariable.assign\u001b[0;34m(self, value, use_locking, name, read_value)\u001b[0m\n\u001b[1;32m    926\u001b[0m \u001b[38;5;28;01mwith\u001b[39;00m _handle_graph(\u001b[38;5;28mself\u001b[39m\u001b[38;5;241m.\u001b[39mhandle):\n\u001b[1;32m    927\u001b[0m   value_tensor \u001b[38;5;241m=\u001b[39m ops\u001b[38;5;241m.\u001b[39mconvert_to_tensor(value, dtype\u001b[38;5;241m=\u001b[39m\u001b[38;5;28mself\u001b[39m\u001b[38;5;241m.\u001b[39mdtype)\n\u001b[0;32m--> 928\u001b[0m   \u001b[38;5;28;01mif\u001b[39;00m \u001b[38;5;129;01mnot\u001b[39;00m \u001b[38;5;28mself\u001b[39m\u001b[38;5;241m.\u001b[39m_shape\u001b[38;5;241m.\u001b[39mis_compatible_with(\u001b[43mvalue_tensor\u001b[49m\u001b[38;5;241;43m.\u001b[39;49m\u001b[43mshape\u001b[49m):\n\u001b[1;32m    929\u001b[0m     \u001b[38;5;28;01mif\u001b[39;00m \u001b[38;5;28mself\u001b[39m\u001b[38;5;241m.\u001b[39mname \u001b[38;5;129;01mis\u001b[39;00m \u001b[38;5;28;01mNone\u001b[39;00m:\n\u001b[1;32m    930\u001b[0m       tensor_name \u001b[38;5;241m=\u001b[39m \u001b[38;5;124m\"\u001b[39m\u001b[38;5;124m\"\u001b[39m\n",
      "File \u001b[0;32m~/.local/share/virtualenvs/roxene-KZO7fL-2/lib64/python3.10/site-packages/tensorflow/python/framework/ops.py:1259\u001b[0m, in \u001b[0;36m_EagerTensorBase.shape\u001b[0;34m(self)\u001b[0m\n\u001b[1;32m   1254\u001b[0m \u001b[38;5;28;01mif\u001b[39;00m \u001b[38;5;28mself\u001b[39m\u001b[38;5;241m.\u001b[39m_tensor_shape \u001b[38;5;129;01mis\u001b[39;00m \u001b[38;5;28;01mNone\u001b[39;00m:  \u001b[38;5;66;03m# pylint: disable=access-member-before-definition\u001b[39;00m\n\u001b[1;32m   1255\u001b[0m   \u001b[38;5;66;03m# pylint: disable=protected-access\u001b[39;00m\n\u001b[1;32m   1256\u001b[0m   \u001b[38;5;28;01mtry\u001b[39;00m:\n\u001b[1;32m   1257\u001b[0m     \u001b[38;5;66;03m# `_tensor_shape` is declared and defined in the definition of\u001b[39;00m\n\u001b[1;32m   1258\u001b[0m     \u001b[38;5;66;03m# `EagerTensor`, in C.\u001b[39;00m\n\u001b[0;32m-> 1259\u001b[0m     \u001b[38;5;28mself\u001b[39m\u001b[38;5;241m.\u001b[39m_tensor_shape \u001b[38;5;241m=\u001b[39m \u001b[43mtensor_shape\u001b[49m\u001b[38;5;241;43m.\u001b[39;49m\u001b[43mTensorShape\u001b[49m\u001b[43m(\u001b[49m\u001b[38;5;28;43mself\u001b[39;49m\u001b[38;5;241;43m.\u001b[39;49m\u001b[43m_shape_tuple\u001b[49m\u001b[43m(\u001b[49m\u001b[43m)\u001b[49m\u001b[43m)\u001b[49m\n\u001b[1;32m   1260\u001b[0m   \u001b[38;5;28;01mexcept\u001b[39;00m core\u001b[38;5;241m.\u001b[39m_NotOkStatusException \u001b[38;5;28;01mas\u001b[39;00m e:\n\u001b[1;32m   1261\u001b[0m     \u001b[38;5;28;01mraise\u001b[39;00m core\u001b[38;5;241m.\u001b[39m_status_to_exception(e) \u001b[38;5;28;01mfrom\u001b[39;00m \u001b[38;5;28mNone\u001b[39m\n",
      "File \u001b[0;32m~/.local/share/virtualenvs/roxene-KZO7fL-2/lib64/python3.10/site-packages/tensorflow/python/framework/tensor_shape.py:774\u001b[0m, in \u001b[0;36mTensorShape.__init__\u001b[0;34m(self, dims)\u001b[0m\n\u001b[1;32m    765\u001b[0m \u001b[38;5;250m\u001b[39m\u001b[38;5;124;03m\"\"\"Creates a new TensorShape with the given dimensions.\u001b[39;00m\n\u001b[1;32m    766\u001b[0m \n\u001b[1;32m    767\u001b[0m \u001b[38;5;124;03mArgs:\u001b[39;00m\n\u001b[0;32m   (...)\u001b[0m\n\u001b[1;32m    771\u001b[0m \u001b[38;5;124;03m  TypeError: If dims cannot be converted to a list of dimensions.\u001b[39;00m\n\u001b[1;32m    772\u001b[0m \u001b[38;5;124;03m\"\"\"\u001b[39;00m\n\u001b[1;32m    773\u001b[0m \u001b[38;5;28;01mif\u001b[39;00m \u001b[38;5;28misinstance\u001b[39m(dims, (\u001b[38;5;28mtuple\u001b[39m, \u001b[38;5;28mlist\u001b[39m)):  \u001b[38;5;66;03m# Most common case.\u001b[39;00m\n\u001b[0;32m--> 774\u001b[0m   \u001b[38;5;28mself\u001b[39m\u001b[38;5;241m.\u001b[39m_dims \u001b[38;5;241m=\u001b[39m \u001b[38;5;28;43mtuple\u001b[39;49m\u001b[43m(\u001b[49m\u001b[43mas_dimension\u001b[49m\u001b[43m(\u001b[49m\u001b[43md\u001b[49m\u001b[43m)\u001b[49m\u001b[38;5;241;43m.\u001b[39;49m\u001b[43mvalue\u001b[49m\u001b[43m \u001b[49m\u001b[38;5;28;43;01mfor\u001b[39;49;00m\u001b[43m \u001b[49m\u001b[43md\u001b[49m\u001b[43m \u001b[49m\u001b[38;5;129;43;01min\u001b[39;49;00m\u001b[43m \u001b[49m\u001b[43mdims\u001b[49m\u001b[43m)\u001b[49m\n\u001b[1;32m    775\u001b[0m \u001b[38;5;28;01melif\u001b[39;00m dims \u001b[38;5;129;01mis\u001b[39;00m \u001b[38;5;28;01mNone\u001b[39;00m:\n\u001b[1;32m    776\u001b[0m   \u001b[38;5;28mself\u001b[39m\u001b[38;5;241m.\u001b[39m_dims \u001b[38;5;241m=\u001b[39m \u001b[38;5;28;01mNone\u001b[39;00m\n",
      "File \u001b[0;32m~/.local/share/virtualenvs/roxene-KZO7fL-2/lib64/python3.10/site-packages/tensorflow/python/framework/tensor_shape.py:774\u001b[0m, in \u001b[0;36m<genexpr>\u001b[0;34m(.0)\u001b[0m\n\u001b[1;32m    765\u001b[0m \u001b[38;5;250m\u001b[39m\u001b[38;5;124;03m\"\"\"Creates a new TensorShape with the given dimensions.\u001b[39;00m\n\u001b[1;32m    766\u001b[0m \n\u001b[1;32m    767\u001b[0m \u001b[38;5;124;03mArgs:\u001b[39;00m\n\u001b[0;32m   (...)\u001b[0m\n\u001b[1;32m    771\u001b[0m \u001b[38;5;124;03m  TypeError: If dims cannot be converted to a list of dimensions.\u001b[39;00m\n\u001b[1;32m    772\u001b[0m \u001b[38;5;124;03m\"\"\"\u001b[39;00m\n\u001b[1;32m    773\u001b[0m \u001b[38;5;28;01mif\u001b[39;00m \u001b[38;5;28misinstance\u001b[39m(dims, (\u001b[38;5;28mtuple\u001b[39m, \u001b[38;5;28mlist\u001b[39m)):  \u001b[38;5;66;03m# Most common case.\u001b[39;00m\n\u001b[0;32m--> 774\u001b[0m   \u001b[38;5;28mself\u001b[39m\u001b[38;5;241m.\u001b[39m_dims \u001b[38;5;241m=\u001b[39m \u001b[38;5;28mtuple\u001b[39m(as_dimension(d)\u001b[38;5;241m.\u001b[39mvalue \u001b[38;5;28;01mfor\u001b[39;00m d \u001b[38;5;129;01min\u001b[39;00m dims)\n\u001b[1;32m    775\u001b[0m \u001b[38;5;28;01melif\u001b[39;00m dims \u001b[38;5;129;01mis\u001b[39;00m \u001b[38;5;28;01mNone\u001b[39;00m:\n\u001b[1;32m    776\u001b[0m   \u001b[38;5;28mself\u001b[39m\u001b[38;5;241m.\u001b[39m_dims \u001b[38;5;241m=\u001b[39m \u001b[38;5;28;01mNone\u001b[39;00m\n",
      "\u001b[0;31mKeyboardInterrupt\u001b[0m: "
     ]
    }
   ],
   "source": [
    "num_trials = 200_000\n",
    "\n",
    "breed_and_cull_interval = 100\n",
    "num_organisms=1_000\n",
    "\n",
    "runner = Runner(num_organisms, num_mutagens=10, seed=42220)\n",
    "\n",
    "\n",
    "for iteration in range(num_trials):\n",
    "    trial = runner.run_trial()\n",
    "    i\n",
    "    print(f\"Game finished with moves {[(move.letter, move.position, move.outcomes) for move in trial.moves]}\")\n",
    "    if ((iteration+1) % breed_and_cull_interval) == 0:\n",
    "        print(\"Breeding and culling\")\n",
    "        runner.cull(num_to_cull)\n",
    "        runner.breed(num_to_breed)\n"
   ]
  },
  {
   "cell_type": "code",
   "execution_count": 7,
   "id": "ff49f544",
   "metadata": {},
   "outputs": [
    {
     "data": {
      "text/plain": [
       "19"
      ]
     },
     "execution_count": 7,
     "metadata": {},
     "output_type": "execute_result"
    }
   ],
   "source": [
    "-1 % 20"
   ]
  }
 ],
 "metadata": {
  "kernelspec": {
   "display_name": "Python 3 (ipykernel)",
   "language": "python",
   "name": "python3"
  },
  "language_info": {
   "codemirror_mode": {
    "name": "ipython",
    "version": 3
   },
   "file_extension": ".py",
   "mimetype": "text/x-python",
   "name": "python",
   "nbconvert_exporter": "python",
   "pygments_lexer": "ipython3",
   "version": "3.10.9"
  }
 },
 "nbformat": 4,
 "nbformat_minor": 5
}
