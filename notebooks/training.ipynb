{
 "cells": [
  {
   "cell_type": "code",
   "execution_count": 1,
   "id": "18c4c367",
   "metadata": {},
   "outputs": [],
   "source": [
    "import sys\n",
    " \n",
    "sys.path.append('..')"
   ]
  },
  {
   "cell_type": "code",
   "execution_count": 2,
   "id": "77cda4e6",
   "metadata": {},
   "outputs": [],
   "source": [
    "import matplotlib.pyplot as plt\n",
    "import numpy as np"
   ]
  },
  {
   "cell_type": "code",
   "execution_count": 3,
   "id": "7bfe80d4",
   "metadata": {},
   "outputs": [
    {
     "name": "stderr",
     "output_type": "stream",
     "text": [
      "2023-02-24 00:27:31.614363: I tensorflow/core/platform/cpu_feature_guard.cc:193] This TensorFlow binary is optimized with oneAPI Deep Neural Network Library (oneDNN) to use the following CPU instructions in performance-critical operations:  AVX2 FMA\n",
      "To enable them in other operations, rebuild TensorFlow with the appropriate compiler flags.\n",
      "2023-02-24 00:27:32.057227: W tensorflow/compiler/xla/stream_executor/platform/default/dso_loader.cc:64] Could not load dynamic library 'libcudart.so.11.0'; dlerror: libcudart.so.11.0: cannot open shared object file: No such file or directory\n",
      "2023-02-24 00:27:32.057299: I tensorflow/compiler/xla/stream_executor/cuda/cudart_stub.cc:29] Ignore above cudart dlerror if you do not have a GPU set up on your machine.\n",
      "2023-02-24 00:27:33.434267: W tensorflow/compiler/xla/stream_executor/platform/default/dso_loader.cc:64] Could not load dynamic library 'libnvinfer.so.7'; dlerror: libnvinfer.so.7: cannot open shared object file: No such file or directory\n",
      "2023-02-24 00:27:33.434557: W tensorflow/compiler/xla/stream_executor/platform/default/dso_loader.cc:64] Could not load dynamic library 'libnvinfer_plugin.so.7'; dlerror: libnvinfer_plugin.so.7: cannot open shared object file: No such file or directory\n",
      "2023-02-24 00:27:33.434572: W tensorflow/compiler/tf2tensorrt/utils/py_utils.cc:38] TF-TRT Warning: Cannot dlopen some TensorRT libraries. If you would like to use Nvidia GPU with TensorRT, please make sure the missing libraries mentioned above are installed properly.\n"
     ]
    }
   ],
   "source": [
    "from roxene.tic_tac_toe import Runner"
   ]
  },
  {
   "cell_type": "code",
   "execution_count": 4,
   "id": "2a891c5a",
   "metadata": {
    "scrolled": true
   },
   "outputs": [
    {
     "name": "stderr",
     "output_type": "stream",
     "text": [
      "2023-02-24 00:27:34.500394: W tensorflow/compiler/xla/stream_executor/platform/default/dso_loader.cc:64] Could not load dynamic library 'libcuda.so.1'; dlerror: libcuda.so.1: cannot open shared object file: No such file or directory\n",
      "2023-02-24 00:27:34.500985: W tensorflow/compiler/xla/stream_executor/cuda/cuda_driver.cc:265] failed call to cuInit: UNKNOWN ERROR (303)\n",
      "2023-02-24 00:27:34.501088: I tensorflow/compiler/xla/stream_executor/cuda/cuda_diagnostics.cc:156] kernel driver does not appear to be running on this host (bort): /proc/driver/nvidia/version does not exist\n",
      "2023-02-24 00:27:34.502537: I tensorflow/core/platform/cpu_feature_guard.cc:193] This TensorFlow binary is optimized with oneAPI Deep Neural Network Library (oneDNN) to use the following CPU instructions in performance-critical operations:  AVX2 FMA\n",
      "To enable them in other operations, rebuild TensorFlow with the appropriate compiler flags.\n"
     ]
    },
    {
     "name": "stdout",
     "output_type": "stream",
     "text": [
      "Game finished with moves [('X', None, {<Outcome.LOSE: 2>, <Outcome.TIMEOUT: 4>})]\n",
      "Game finished with moves [('X', None, {<Outcome.LOSE: 2>, <Outcome.TIMEOUT: 4>})]\n",
      "Game finished with moves [('X', None, {<Outcome.LOSE: 2>, <Outcome.TIMEOUT: 4>})]\n",
      "Game finished with moves [('X', None, {<Outcome.LOSE: 2>, <Outcome.TIMEOUT: 4>})]\n",
      "Game finished with moves [('X', None, {<Outcome.LOSE: 2>, <Outcome.TIMEOUT: 4>})]\n",
      "Game finished with moves [('X', None, {<Outcome.LOSE: 2>, <Outcome.TIMEOUT: 4>})]\n",
      "Game finished with moves [('X', None, {<Outcome.LOSE: 2>, <Outcome.TIMEOUT: 4>})]\n",
      "Game finished with moves [('X', None, {<Outcome.LOSE: 2>, <Outcome.TIMEOUT: 4>})]\n",
      "Game finished with moves [('X', None, {<Outcome.LOSE: 2>, <Outcome.TIMEOUT: 4>})]\n",
      "Game finished with moves [('X', None, {<Outcome.LOSE: 2>, <Outcome.TIMEOUT: 4>})]\n",
      "Breeding and culling\n",
      "Game finished with moves [('X', None, {<Outcome.LOSE: 2>, <Outcome.TIMEOUT: 4>})]\n",
      "Game finished with moves [('X', None, {<Outcome.LOSE: 2>, <Outcome.TIMEOUT: 4>})]\n",
      "Game finished with moves [('X', None, {<Outcome.LOSE: 2>, <Outcome.TIMEOUT: 4>})]\n",
      "Game finished with moves [('X', None, {<Outcome.LOSE: 2>, <Outcome.TIMEOUT: 4>})]\n"
     ]
    },
    {
     "ename": "KeyboardInterrupt",
     "evalue": "",
     "output_type": "error",
     "traceback": [
      "\u001b[0;31m---------------------------------------------------------------------------\u001b[0m",
      "\u001b[0;31mKeyboardInterrupt\u001b[0m                         Traceback (most recent call last)",
      "Cell \u001b[0;32mIn[4], line 11\u001b[0m\n\u001b[1;32m      7\u001b[0m runner \u001b[38;5;241m=\u001b[39m Runner(num_organisms, num_mutagens\u001b[38;5;241m=\u001b[39m\u001b[38;5;241m10\u001b[39m, seed\u001b[38;5;241m=\u001b[39m\u001b[38;5;241m42220\u001b[39m)\n\u001b[1;32m     10\u001b[0m \u001b[38;5;28;01mfor\u001b[39;00m iteration \u001b[38;5;129;01min\u001b[39;00m \u001b[38;5;28mrange\u001b[39m(num_trials):\n\u001b[0;32m---> 11\u001b[0m     trial \u001b[38;5;241m=\u001b[39m \u001b[43mrunner\u001b[49m\u001b[38;5;241;43m.\u001b[39;49m\u001b[43mrun_trial\u001b[49m\u001b[43m(\u001b[49m\u001b[43m)\u001b[49m\n\u001b[1;32m     12\u001b[0m     \u001b[38;5;28mprint\u001b[39m(\u001b[38;5;124mf\u001b[39m\u001b[38;5;124m\"\u001b[39m\u001b[38;5;124mGame finished with moves \u001b[39m\u001b[38;5;132;01m{\u001b[39;00m[(move\u001b[38;5;241m.\u001b[39mletter,\u001b[38;5;250m \u001b[39mmove\u001b[38;5;241m.\u001b[39mposition,\u001b[38;5;250m \u001b[39mmove\u001b[38;5;241m.\u001b[39moutcomes)\u001b[38;5;250m \u001b[39m\u001b[38;5;28;01mfor\u001b[39;00m\u001b[38;5;250m \u001b[39mmove\u001b[38;5;250m \u001b[39m\u001b[38;5;129;01min\u001b[39;00m\u001b[38;5;250m \u001b[39mtrial\u001b[38;5;241m.\u001b[39mmoves]\u001b[38;5;132;01m}\u001b[39;00m\u001b[38;5;124m\"\u001b[39m)\n\u001b[1;32m     13\u001b[0m     \u001b[38;5;28;01mif\u001b[39;00m ((iteration\u001b[38;5;241m+\u001b[39m\u001b[38;5;241m1\u001b[39m) \u001b[38;5;241m%\u001b[39m breed_and_cull_interval) \u001b[38;5;241m==\u001b[39m \u001b[38;5;241m0\u001b[39m:\n",
      "File \u001b[0;32m~/py/roxene/notebooks/../roxene/tic_tac_toe/runner.py:73\u001b[0m, in \u001b[0;36mRunner.run_trial\u001b[0;34m(self)\u001b[0m\n\u001b[1;32m     71\u001b[0m trial \u001b[38;5;241m=\u001b[39m Trial(OrganismPlayer(orgs[\u001b[38;5;241m0\u001b[39m], \u001b[38;5;124m'\u001b[39m\u001b[38;5;124mX\u001b[39m\u001b[38;5;124m'\u001b[39m), OrganismPlayer(orgs[\u001b[38;5;241m1\u001b[39m], \u001b[38;5;124m'\u001b[39m\u001b[38;5;124mO\u001b[39m\u001b[38;5;124m'\u001b[39m))\n\u001b[1;32m     72\u001b[0m \u001b[38;5;28mself\u001b[39m\u001b[38;5;241m.\u001b[39mlogger\u001b[38;5;241m.\u001b[39minfo(\u001b[38;5;124mf\u001b[39m\u001b[38;5;124m\"\u001b[39m\u001b[38;5;124mStarting trial \u001b[39m\u001b[38;5;132;01m{\u001b[39;00mtrial\u001b[38;5;241m.\u001b[39mid\u001b[38;5;132;01m}\u001b[39;00m\u001b[38;5;124m with players \u001b[39m\u001b[38;5;132;01m{\u001b[39;00m[\u001b[38;5;28mstr\u001b[39m(o\u001b[38;5;241m.\u001b[39mid)\u001b[38;5;250m \u001b[39m\u001b[38;5;28;01mfor\u001b[39;00m\u001b[38;5;250m \u001b[39mo\u001b[38;5;250m \u001b[39m\u001b[38;5;129;01min\u001b[39;00m\u001b[38;5;250m \u001b[39morgs]\u001b[38;5;132;01m}\u001b[39;00m\u001b[38;5;124m\"\u001b[39m)\n\u001b[0;32m---> 73\u001b[0m \u001b[43mtrial\u001b[49m\u001b[38;5;241;43m.\u001b[39;49m\u001b[43mrun\u001b[49m\u001b[43m(\u001b[49m\u001b[43m)\u001b[49m\n\u001b[1;32m     74\u001b[0m \u001b[38;5;28mself\u001b[39m\u001b[38;5;241m.\u001b[39mlogger\u001b[38;5;241m.\u001b[39minfo(\u001b[38;5;124mf\u001b[39m\u001b[38;5;124m\"\u001b[39m\u001b[38;5;124mFinished trial \u001b[39m\u001b[38;5;132;01m{\u001b[39;00mtrial\u001b[38;5;241m.\u001b[39mid\u001b[38;5;132;01m}\u001b[39;00m\u001b[38;5;124m\"\u001b[39m)\n\u001b[1;32m     75\u001b[0m \u001b[38;5;28mself\u001b[39m\u001b[38;5;241m.\u001b[39mbusy_organisms\u001b[38;5;241m.\u001b[39mdifference_update(orgs)\n",
      "File \u001b[0;32m~/py/roxene/notebooks/../roxene/tic_tac_toe/trial.py:50\u001b[0m, in \u001b[0;36mTrial.run\u001b[0;34m(self)\u001b[0m\n\u001b[1;32m     48\u001b[0m this_move \u001b[38;5;241m=\u001b[39m Move(letter\u001b[38;5;241m=\u001b[39mcurrent_player_letter, initial_board_state\u001b[38;5;241m=\u001b[39m\u001b[38;5;28mself\u001b[39m\u001b[38;5;241m.\u001b[39mboard)\n\u001b[1;32m     49\u001b[0m \u001b[38;5;28;01mtry\u001b[39;00m:\n\u001b[0;32m---> 50\u001b[0m     move_coords \u001b[38;5;241m=\u001b[39m \u001b[43mcurrent_player\u001b[49m\u001b[38;5;241;43m.\u001b[39;49m\u001b[43mget_move_coords\u001b[49m\u001b[43m(\u001b[49m\u001b[38;5;28;43mself\u001b[39;49m\u001b[38;5;241;43m.\u001b[39;49m\u001b[43mboard\u001b[49m\u001b[43m)\u001b[49m\n\u001b[1;32m     51\u001b[0m     this_move\u001b[38;5;241m.\u001b[39mposition \u001b[38;5;241m=\u001b[39m move_coords\n\u001b[1;32m     52\u001b[0m     existing_square_value \u001b[38;5;241m=\u001b[39m \u001b[38;5;28mself\u001b[39m\u001b[38;5;241m.\u001b[39mboard[move_coords[\u001b[38;5;241m0\u001b[39m]][move_coords[\u001b[38;5;241m1\u001b[39m]]\n",
      "File \u001b[0;32m~/py/roxene/notebooks/../roxene/tic_tac_toe/players.py:42\u001b[0m, in \u001b[0;36mOrganismPlayer.get_move_coords\u001b[0;34m(self, board)\u001b[0m\n\u001b[1;32m     40\u001b[0m             input_value \u001b[38;5;241m=\u001b[39m LOW_THRESHOLD\n\u001b[1;32m     41\u001b[0m         \u001b[38;5;28mself\u001b[39m\u001b[38;5;241m.\u001b[39morganism\u001b[38;5;241m.\u001b[39mset_input(input_label, input_value)\n\u001b[0;32m---> 42\u001b[0m \u001b[38;5;28;43mself\u001b[39;49m\u001b[38;5;241;43m.\u001b[39;49m\u001b[43msync\u001b[49m\u001b[43m(\u001b[49m\u001b[43mMAX_UPDATES\u001b[49m\u001b[43m)\u001b[49m\n\u001b[1;32m     43\u001b[0m max_output_value \u001b[38;5;241m=\u001b[39m \u001b[38;5;28;01mNone\u001b[39;00m\n\u001b[1;32m     44\u001b[0m \u001b[38;5;28;01mfor\u001b[39;00m x \u001b[38;5;129;01min\u001b[39;00m \u001b[38;5;28mrange\u001b[39m(\u001b[38;5;241m3\u001b[39m):\n",
      "File \u001b[0;32m~/py/roxene/notebooks/../roxene/tic_tac_toe/players.py:69\u001b[0m, in \u001b[0;36mOrganismPlayer.sync\u001b[0;34m(self, max_updates)\u001b[0m\n\u001b[1;32m     67\u001b[0m     next_log_at_update_number \u001b[38;5;241m*\u001b[39m\u001b[38;5;241m=\u001b[39m \u001b[38;5;241m2\u001b[39m\n\u001b[1;32m     68\u001b[0m     \u001b[38;5;28mself\u001b[39m\u001b[38;5;241m.\u001b[39mlogger\u001b[38;5;241m.\u001b[39mdebug(\u001b[38;5;124mf\u001b[39m\u001b[38;5;124m\"\u001b[39m\u001b[38;5;124mBeginning update \u001b[39m\u001b[38;5;132;01m{\u001b[39;00mnum_updates_used\u001b[38;5;132;01m}\u001b[39;00m\u001b[38;5;124m\"\u001b[39m)\n\u001b[0;32m---> 69\u001b[0m \u001b[38;5;28;43mself\u001b[39;49m\u001b[38;5;241;43m.\u001b[39;49m\u001b[43morganism\u001b[49m\u001b[38;5;241;43m.\u001b[39;49m\u001b[43mupdate\u001b[49m\u001b[43m(\u001b[49m\u001b[43m)\u001b[49m\n\u001b[1;32m     70\u001b[0m num_updates_used \u001b[38;5;241m+\u001b[39m\u001b[38;5;241m=\u001b[39m \u001b[38;5;241m1\u001b[39m\n\u001b[1;32m     71\u001b[0m output_value \u001b[38;5;241m=\u001b[39m \u001b[38;5;28mself\u001b[39m\u001b[38;5;241m.\u001b[39morganism\u001b[38;5;241m.\u001b[39mget_output(OUTPUT_READY)\n",
      "File \u001b[0;32m~/py/roxene/notebooks/../roxene/organism.py:29\u001b[0m, in \u001b[0;36mOrganism.update\u001b[0;34m(self)\u001b[0m\n\u001b[1;32m     27\u001b[0m \u001b[38;5;28;01mfor\u001b[39;00m cell \u001b[38;5;129;01min\u001b[39;00m \u001b[38;5;28mself\u001b[39m\u001b[38;5;241m.\u001b[39mcells:\n\u001b[1;32m     28\u001b[0m     \u001b[38;5;28;01mif\u001b[39;00m \u001b[38;5;28misinstance\u001b[39m(cell, Neuron):\n\u001b[0;32m---> 29\u001b[0m         \u001b[43mcell\u001b[49m\u001b[38;5;241;43m.\u001b[39;49m\u001b[43mupdate\u001b[49m\u001b[43m(\u001b[49m\u001b[43m)\u001b[49m\n",
      "File \u001b[0;32m~/py/roxene/notebooks/../roxene/cells.py:58\u001b[0m, in \u001b[0;36mNeuron.update\u001b[0;34m(self)\u001b[0m\n\u001b[1;32m     56\u001b[0m hidden_wts \u001b[38;5;241m=\u001b[39m tf\u001b[38;5;241m.\u001b[39mconcat([\u001b[38;5;28mself\u001b[39m\u001b[38;5;241m.\u001b[39minput_hidden, \u001b[38;5;28mself\u001b[39m\u001b[38;5;241m.\u001b[39mfeedback_hidden], \u001b[38;5;241m0\u001b[39m)\n\u001b[1;32m     57\u001b[0m hidden \u001b[38;5;241m=\u001b[39m \u001b[38;5;28mself\u001b[39m\u001b[38;5;241m.\u001b[39mactivation(tf\u001b[38;5;241m.\u001b[39mmatmul(hidden_in, hidden_wts))\n\u001b[0;32m---> 58\u001b[0m \u001b[38;5;28;43mself\u001b[39;49m\u001b[38;5;241;43m.\u001b[39;49m\u001b[43mfeedback\u001b[49m\u001b[38;5;241;43m.\u001b[39;49m\u001b[43massign\u001b[49m\u001b[43m(\u001b[49m\u001b[43mtf\u001b[49m\u001b[38;5;241;43m.\u001b[39;49m\u001b[43msqueeze\u001b[49m\u001b[43m(\u001b[49m\u001b[38;5;28;43mself\u001b[39;49m\u001b[38;5;241;43m.\u001b[39;49m\u001b[43mactivation\u001b[49m\u001b[43m(\u001b[49m\u001b[43mtf\u001b[49m\u001b[38;5;241;43m.\u001b[39;49m\u001b[43mmatmul\u001b[49m\u001b[43m(\u001b[49m\u001b[43mhidden\u001b[49m\u001b[43m,\u001b[49m\u001b[43m \u001b[49m\u001b[38;5;28;43mself\u001b[39;49m\u001b[38;5;241;43m.\u001b[39;49m\u001b[43mhidden_feedback\u001b[49m\u001b[43m)\u001b[49m\u001b[43m)\u001b[49m\u001b[43m,\u001b[49m\u001b[43m \u001b[49m\u001b[38;5;241;43m0\u001b[39;49m\u001b[43m)\u001b[49m\u001b[43m)\u001b[49m\n\u001b[1;32m     59\u001b[0m \u001b[38;5;28mself\u001b[39m\u001b[38;5;241m.\u001b[39moutput\u001b[38;5;241m.\u001b[39massign(tf\u001b[38;5;241m.\u001b[39msqueeze(\u001b[38;5;28mself\u001b[39m\u001b[38;5;241m.\u001b[39mactivation(tf\u001b[38;5;241m.\u001b[39mmatmul(hidden, \u001b[38;5;28mself\u001b[39m\u001b[38;5;241m.\u001b[39mhidden_output)), [\u001b[38;5;241m0\u001b[39m]))\n",
      "File \u001b[0;32m~/.local/share/virtualenvs/roxene-KZO7fL-2/lib64/python3.10/site-packages/tensorflow/python/ops/resource_variable_ops.py:943\u001b[0m, in \u001b[0;36mBaseResourceVariable.assign\u001b[0;34m(self, value, use_locking, name, read_value)\u001b[0m\n\u001b[1;32m    941\u001b[0m   validate_shape \u001b[38;5;241m=\u001b[39m \u001b[38;5;28mself\u001b[39m\u001b[38;5;241m.\u001b[39m_validate_shape \u001b[38;5;129;01mand\u001b[39;00m \u001b[38;5;28mself\u001b[39m\u001b[38;5;241m.\u001b[39m_shape\u001b[38;5;241m.\u001b[39mis_fully_defined()\n\u001b[1;32m    942\u001b[0m   kwargs[\u001b[38;5;124m\"\u001b[39m\u001b[38;5;124mvalidate_shape\u001b[39m\u001b[38;5;124m\"\u001b[39m] \u001b[38;5;241m=\u001b[39m validate_shape\n\u001b[0;32m--> 943\u001b[0m assign_op \u001b[38;5;241m=\u001b[39m \u001b[43mgen_resource_variable_ops\u001b[49m\u001b[38;5;241;43m.\u001b[39;49m\u001b[43massign_variable_op\u001b[49m\u001b[43m(\u001b[49m\n\u001b[1;32m    944\u001b[0m \u001b[43m    \u001b[49m\u001b[38;5;28;43mself\u001b[39;49m\u001b[38;5;241;43m.\u001b[39;49m\u001b[43mhandle\u001b[49m\u001b[43m,\u001b[49m\u001b[43m \u001b[49m\u001b[43mvalue_tensor\u001b[49m\u001b[43m,\u001b[49m\u001b[43m \u001b[49m\u001b[43mname\u001b[49m\u001b[38;5;241;43m=\u001b[39;49m\u001b[43mname\u001b[49m\u001b[43m,\u001b[49m\u001b[43m \u001b[49m\u001b[38;5;241;43m*\u001b[39;49m\u001b[38;5;241;43m*\u001b[39;49m\u001b[43mkwargs\u001b[49m\u001b[43m)\u001b[49m\n\u001b[1;32m    945\u001b[0m \u001b[38;5;28;01mif\u001b[39;00m read_value:\n\u001b[1;32m    946\u001b[0m   \u001b[38;5;28;01mreturn\u001b[39;00m \u001b[38;5;28mself\u001b[39m\u001b[38;5;241m.\u001b[39m_lazy_read(assign_op)\n",
      "File \u001b[0;32m~/.local/share/virtualenvs/roxene-KZO7fL-2/lib64/python3.10/site-packages/tensorflow/python/ops/gen_resource_variable_ops.py:142\u001b[0m, in \u001b[0;36massign_variable_op\u001b[0;34m(resource, value, validate_shape, name)\u001b[0m\n\u001b[1;32m    140\u001b[0m \u001b[38;5;28;01mif\u001b[39;00m tld\u001b[38;5;241m.\u001b[39mis_eager:\n\u001b[1;32m    141\u001b[0m   \u001b[38;5;28;01mtry\u001b[39;00m:\n\u001b[0;32m--> 142\u001b[0m     _result \u001b[38;5;241m=\u001b[39m \u001b[43mpywrap_tfe\u001b[49m\u001b[38;5;241;43m.\u001b[39;49m\u001b[43mTFE_Py_FastPathExecute\u001b[49m\u001b[43m(\u001b[49m\n\u001b[1;32m    143\u001b[0m \u001b[43m      \u001b[49m\u001b[43m_ctx\u001b[49m\u001b[43m,\u001b[49m\u001b[43m \u001b[49m\u001b[38;5;124;43m\"\u001b[39;49m\u001b[38;5;124;43mAssignVariableOp\u001b[39;49m\u001b[38;5;124;43m\"\u001b[39;49m\u001b[43m,\u001b[49m\u001b[43m \u001b[49m\u001b[43mname\u001b[49m\u001b[43m,\u001b[49m\u001b[43m \u001b[49m\u001b[43mresource\u001b[49m\u001b[43m,\u001b[49m\u001b[43m \u001b[49m\u001b[43mvalue\u001b[49m\u001b[43m,\u001b[49m\u001b[43m \u001b[49m\u001b[38;5;124;43m\"\u001b[39;49m\u001b[38;5;124;43mvalidate_shape\u001b[39;49m\u001b[38;5;124;43m\"\u001b[39;49m\u001b[43m,\u001b[49m\n\u001b[1;32m    144\u001b[0m \u001b[43m      \u001b[49m\u001b[43mvalidate_shape\u001b[49m\u001b[43m)\u001b[49m\n\u001b[1;32m    145\u001b[0m     \u001b[38;5;28;01mreturn\u001b[39;00m _result\n\u001b[1;32m    146\u001b[0m   \u001b[38;5;28;01mexcept\u001b[39;00m _core\u001b[38;5;241m.\u001b[39m_NotOkStatusException \u001b[38;5;28;01mas\u001b[39;00m e:\n",
      "\u001b[0;31mKeyboardInterrupt\u001b[0m: "
     ]
    }
   ],
   "source": [
    "num_trials = 1_000\n",
    "\n",
    "num_organisms=100\n",
    "num_to_cull = num_to_breed = 10\n",
    "breed_and_cull_interval = 10\n",
    "\n",
    "runner = Runner(num_organisms, num_mutagens=10, seed=42220)\n",
    "\n",
    "\n",
    "for iteration in range(num_trials):\n",
    "    trial = runner.run_trial()\n",
    "    print(f\"Game finished with moves {[(move.letter, move.position, move.outcomes) for move in trial.moves]}\")\n",
    "    if ((iteration+1) % breed_and_cull_interval) == 0:\n",
    "        print(\"Breeding and culling\")\n",
    "        runner.cull(num_to_cull)\n",
    "        runner.breed(num_to_breed)\n"
   ]
  }
 ],
 "metadata": {
  "kernelspec": {
   "display_name": "Python 3 (ipykernel)",
   "language": "python",
   "name": "python3"
  },
  "language_info": {
   "codemirror_mode": {
    "name": "ipython",
    "version": 3
   },
   "file_extension": ".py",
   "mimetype": "text/x-python",
   "name": "python",
   "nbconvert_exporter": "python",
   "pygments_lexer": "ipython3",
   "version": "3.10.9"
  }
 },
 "nbformat": 4,
 "nbformat_minor": 5
}
